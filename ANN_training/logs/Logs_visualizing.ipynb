{
 "cells": [
  {
   "cell_type": "code",
   "execution_count": null,
   "id": "1d378361-ad45-464e-9a84-88c4f2f58c1a",
   "metadata": {},
   "outputs": [],
   "source": [
    "import tensorboard\n",
    "\n",
    "%load_ext tensorboard\n",
    "%tensorboard --logdir r\"C:\\Users\\Admin\\Documents\\ANN\\Carla Dataset\\logs\\train\""
   ]
  },
  {
   "cell_type": "code",
   "execution_count": null,
   "id": "62ae6a0e-0d66-47d1-b5b5-5765fb548bc7",
   "metadata": {},
   "outputs": [],
   "source": [
    "# Use the ! character to execute terminal commands within a notebook cell\n",
    "!tensorboard --logdir r\"C:\\Users\\Admin\\Documents\\ANN\\logs\\train\\events.out.tfevents.1721127737.f1b64f06e4dc.223.0.v2\" --host 0.0.0.0 --port 6006"
   ]
  },
  {
   "cell_type": "code",
   "execution_count": null,
   "id": "6a8879a5-83a5-4131-a20e-7dbc94fe9029",
   "metadata": {},
   "outputs": [],
   "source": [
    "!pip install --upgrade tensorflow tensorboard"
   ]
  },
  {
   "cell_type": "code",
   "execution_count": null,
   "id": "3e967dd4-793e-4e3d-9385-ff8b08efafd4",
   "metadata": {},
   "outputs": [],
   "source": [
    "# Use the ! character to execute terminal commands within a notebook cell\n",
    "!tensorboard --logdir \"C:\\Users\\Admin\\Documents\\ANN\\Carla Dataset\\logs\\train\" --host 0.0.0.0 --port 6006"
   ]
  },
  {
   "cell_type": "code",
   "execution_count": null,
   "id": "51c978d1-5b0e-4794-8ed6-094e498754ce",
   "metadata": {},
   "outputs": [],
   "source": [
    "#use this port manual to locate the tensorboard.\n",
    "#http://localhost:6006/\n"
   ]
  },
  {
   "cell_type": "code",
   "execution_count": null,
   "id": "b845c655-7b90-4bfa-9eb0-3635209f2516",
   "metadata": {},
   "outputs": [],
   "source": []
  },
  {
   "cell_type": "code",
   "execution_count": null,
   "id": "e20cef7c-af40-46c0-a9b9-c23f573e750a",
   "metadata": {},
   "outputs": [],
   "source": []
  },
  {
   "cell_type": "code",
   "execution_count": null,
   "id": "dc3f1e6e-1b60-47b1-884d-81ae09f28a6c",
   "metadata": {},
   "outputs": [],
   "source": []
  },
  {
   "cell_type": "code",
   "execution_count": null,
   "id": "6f2ccd1a-ed12-4a9a-827d-e7271b4695e3",
   "metadata": {},
   "outputs": [],
   "source": []
  }
 ],
 "metadata": {
  "kernelspec": {
   "display_name": "Python 3 (ipykernel)",
   "language": "python",
   "name": "python3"
  },
  "language_info": {
   "codemirror_mode": {
    "name": "ipython",
    "version": 3
   },
   "file_extension": ".py",
   "mimetype": "text/x-python",
   "name": "python",
   "nbconvert_exporter": "python",
   "pygments_lexer": "ipython3",
   "version": "3.9.1"
  }
 },
 "nbformat": 4,
 "nbformat_minor": 5
}
